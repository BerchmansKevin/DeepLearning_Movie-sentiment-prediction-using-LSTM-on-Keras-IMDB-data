{
 "cells": [
  {
   "cell_type": "markdown",
   "metadata": {},
   "source": [
    "## `Berchmans Kevin S`\n",
    "## `215229107`"
   ]
  },
  {
   "cell_type": "markdown",
   "metadata": {},
   "source": [
    "### Set-7 Movie sentiment prediction using LSTM on Keras IMDB data"
   ]
  },
  {
   "cell_type": "code",
   "execution_count": 1,
   "metadata": {
    "_cell_guid": "b1076dfc-b9ad-4769-8c92-a6c4dae69d19",
    "_uuid": "8f2839f25d086af736a60e9eeb907d3b93b6e0e5"
   },
   "outputs": [],
   "source": [
    "from keras.datasets import imdb\n",
    "from keras.models import Sequential\n",
    "from keras.layers import Dense\n",
    "from keras.layers import LSTM, Flatten, Dropout\n",
    "import pandas as pd    # to load dataset\n",
    "import numpy as np     # for mathematic equation\n",
    "from nltk.corpus import stopwords   # to get collection of stopwords\n",
    "from sklearn.model_selection import train_test_split       # for splitting dataset\n",
    "from tensorflow.keras.preprocessing.text import Tokenizer  # to encode text to int\n",
    "from tensorflow.keras.models import Sequential     # the model\n",
    "from tensorflow.keras.layers import Embedding, LSTM, Dense # layers of the architecture\n",
    "from tensorflow.keras.callbacks import ModelCheckpoint   # save model\n",
    "from tensorflow.keras.models import load_model   # load saved model\n",
    "import re\n",
    "from tensorflow.keras.optimizers import SGD\n",
    "from sklearn.preprocessing import LabelEncoder\n",
    "from tensorflow.keras.layers import Bidirectional\n",
    "from keras.preprocessing import sequence\n",
    "import matplotlib.pyplot as plt\n",
    "import keras\n",
    "import numpy as np\n",
    "from keras_preprocessing.sequence import pad_sequences"
   ]
  },
  {
   "cell_type": "markdown",
   "metadata": {
    "_uuid": "1d132e24819304428bf9f43cb53abfdbd5044e2e"
   },
   "source": [
    "## Load IMDB from Keras dataset"
   ]
  },
  {
   "cell_type": "code",
   "execution_count": 2,
   "metadata": {
    "_cell_guid": "79c7e3d0-c299-4dcb-8224-4455121ee9b0",
    "_uuid": "d629ff2d2480ee46fbb7e2d37f6b5fab8052498a"
   },
   "outputs": [],
   "source": [
    "# Vocabulary size is 2000\n",
    "num_words = 10000\n",
    "(X_train, y_train), (X_test, y_test) = imdb.load_data(path=\"imdb.npz\",num_words=num_words,skip_top=0,\n",
    "                                                      maxlen=None,seed=113,start_char=1,oov_char=2,index_from=3)"
   ]
  },
  {
   "cell_type": "code",
   "execution_count": 3,
   "metadata": {},
   "outputs": [
    {
     "data": {
      "text/plain": [
       "(25000,)"
      ]
     },
     "execution_count": 3,
     "metadata": {},
     "output_type": "execute_result"
    }
   ],
   "source": [
    "X_train.shape"
   ]
  },
  {
   "cell_type": "code",
   "execution_count": 4,
   "metadata": {},
   "outputs": [
    {
     "data": {
      "text/plain": [
       "(25000,)"
      ]
     },
     "execution_count": 4,
     "metadata": {},
     "output_type": "execute_result"
    }
   ],
   "source": [
    "y_train.shape"
   ]
  },
  {
   "cell_type": "code",
   "execution_count": 5,
   "metadata": {},
   "outputs": [
    {
     "data": {
      "text/plain": [
       "(25000,)"
      ]
     },
     "execution_count": 5,
     "metadata": {},
     "output_type": "execute_result"
    }
   ],
   "source": [
    "X_test.shape"
   ]
  },
  {
   "cell_type": "code",
   "execution_count": 6,
   "metadata": {},
   "outputs": [
    {
     "data": {
      "text/plain": [
       "(25000,)"
      ]
     },
     "execution_count": 6,
     "metadata": {},
     "output_type": "execute_result"
    }
   ],
   "source": [
    "y_test.shape"
   ]
  },
  {
   "cell_type": "code",
   "execution_count": 7,
   "metadata": {},
   "outputs": [
    {
     "name": "stdout",
     "output_type": "stream",
     "text": [
      "X_train.size: 25000  X_test.size: 25000\n"
     ]
    }
   ],
   "source": [
    "print(\"X_train.size:\", X_train.size,\" X_test.size:\", X_test.size)"
   ]
  },
  {
   "cell_type": "code",
   "execution_count": 8,
   "metadata": {},
   "outputs": [
    {
     "name": "stdout",
     "output_type": "stream",
     "text": [
      "(y_train.size: 25000  y_test.size: 25000\n"
     ]
    }
   ],
   "source": [
    "print(\"(y_train.size:\",y_train.size,\" y_test.size:\", y_test.size)"
   ]
  },
  {
   "cell_type": "code",
   "execution_count": 9,
   "metadata": {},
   "outputs": [
    {
     "name": "stdout",
     "output_type": "stream",
     "text": [
      "Review length: \n",
      "Mean 238.71 words (176.493674)\n"
     ]
    },
    {
     "data": {
      "image/png": "[encoded data removed]",
      "text/plain": [
       "<Figure size 432x288 with 1 Axes>"
      ]
     },
     "metadata": {
      "needs_background": "light"
     },
     "output_type": "display_data"
    }
   ],
   "source": [
    "# Summarize review length\n",
    "print(\"Review length: \")\n",
    "result = [len(x) for x in X_train]\n",
    "print(\"Mean %.2f words (%f)\" % (np.mean(result), np.std(result)))\n",
    "# plot review length\n",
    "plt.boxplot(result)\n",
    "plt.show()"
   ]
  },
  {
   "cell_type": "code",
   "execution_count": 10,
   "metadata": {
    "_uuid": "375308f2bd064d70a2ea01411e6b424a2f7fac75"
   },
   "outputs": [],
   "source": [
    "max_review_length = 250\n",
    "\n",
    "X_train = pad_sequences(X_train, maxlen=max_review_length)\n",
    "X_test = pad_sequences(X_test, maxlen=max_review_length)"
   ]
  },
  {
   "cell_type": "markdown",
   "metadata": {
    "_uuid": "a92bee4ab3fcba6c46b6ae0078dafcc8a0587dcb"
   },
   "source": [
    "## Create and compile model"
   ]
  },
  {
   "cell_type": "code",
   "execution_count": 11,
   "metadata": {},
   "outputs": [],
   "source": [
    "epochs = 1\n",
    "learning_rate = 0.01\n",
    "decay_rate = learning_rate / epochs\n",
    "momentum = 0.8\n",
    "sgd = SGD(learning_rate=learning_rate, momentum=momentum, decay=decay_rate, nesterov=False)"
   ]
  },
  {
   "cell_type": "code",
   "execution_count": 12,
   "metadata": {
    "_uuid": "4b780f8c4ef5a1cfe85558dad5bbbb667e7bd293"
   },
   "outputs": [
    {
     "name": "stdout",
     "output_type": "stream",
     "text": [
      "Model: \"sequential\"\n",
      "_________________________________________________________________\n",
      " Layer (type)                Output Shape              Param #   \n",
      "=================================================================\n",
      " embedding (Embedding)       (None, 250, 32)           320000    \n",
      "                                                                 \n",
      " dropout (Dropout)           (None, 250, 32)           0         \n",
      "                                                                 \n",
      " lstm (LSTM)                 (None, 32)                8320      \n",
      "                                                                 \n",
      " dense (Dense)               (None, 256)               8448      \n",
      "                                                                 \n",
      " dropout_1 (Dropout)         (None, 256)               0         \n",
      "                                                                 \n",
      " dense_1 (Dense)             (None, 1)                 257       \n",
      "                                                                 \n",
      "=================================================================\n",
      "Total params: 337,025\n",
      "Trainable params: 337,025\n",
      "Non-trainable params: 0\n",
      "_________________________________________________________________\n"
     ]
    }
   ],
   "source": [
    "embedding_vector_length = 32\n",
    "model_rnn = Sequential()\n",
    "model_rnn.add(Embedding(input_dim=num_words, output_dim=embedding_vector_length, input_length=max_review_length))\n",
    "model_rnn.add(Dropout(0.2))\n",
    "model_rnn.add(LSTM(32))\n",
    "model_rnn.add(Dense(units=256, activation='relu'))\n",
    "model_rnn.add(Dropout(0.2))\n",
    "model_rnn.add(Dense(units=1, activation='sigmoid'))\n",
    "model_rnn.summary()\n",
    "model_rnn.compile(loss='binary_crossentropy', optimizer=sgd, metrics=['accuracy'])"
   ]
  },
  {
   "cell_type": "markdown",
   "metadata": {
    "_uuid": "84866472b8c0c9702f2716eaf926c559fffdc06f"
   },
   "source": [
    "## Fit model"
   ]
  },
  {
   "cell_type": "code",
   "execution_count": 13,
   "metadata": {
    "_uuid": "5de4531f942dfd5ba5895bdc0fea0ab6af49f2fe"
   },
   "outputs": [
    {
     "name": "stdout",
     "output_type": "stream",
     "text": [
      "625/625 - 16s - loss: 0.6931 - accuracy: 0.5066 - val_loss: 0.6930 - val_accuracy: 0.5036 - 16s/epoch - 25ms/step\n"
     ]
    }
   ],
   "source": [
    "train_history = model_rnn.fit(X_train, y_train, batch_size=32,epochs=1, verbose=2, validation_split=0.2)"
   ]
  },
  {
   "cell_type": "code",
   "execution_count": 14,
   "metadata": {},
   "outputs": [
    {
     "name": "stdout",
     "output_type": "stream",
     "text": [
      "Epoch 1/2\n",
      "625/625 - 15s - loss: 0.6930 - accuracy: 0.5110 - val_loss: 0.6929 - val_accuracy: 0.5120 - 15s/epoch - 23ms/step\n",
      "Epoch 2/2\n",
      "625/625 - 15s - loss: 0.6929 - accuracy: 0.5250 - val_loss: 0.6929 - val_accuracy: 0.5098 - 15s/epoch - 23ms/step\n"
     ]
    }
   ],
   "source": [
    "train_history2 = model_rnn.fit(X_train, y_train, batch_size=32,epochs=2, verbose=2, validation_split=0.2)"
   ]
  },
  {
   "cell_type": "code",
   "execution_count": 17,
   "metadata": {},
   "outputs": [
    {
     "name": "stdout",
     "output_type": "stream",
     "text": [
      "Epoch 1/3\n",
      "625/625 - 15s - loss: 0.6929 - accuracy: 0.5116 - val_loss: 0.6929 - val_accuracy: 0.5150 - 15s/epoch - 24ms/step\n",
      "Epoch 2/3\n",
      "625/625 - 15s - loss: 0.6929 - accuracy: 0.5251 - val_loss: 0.6929 - val_accuracy: 0.5150 - 15s/epoch - 23ms/step\n",
      "Epoch 3/3\n",
      "625/625 - 15s - loss: 0.6929 - accuracy: 0.5238 - val_loss: 0.6929 - val_accuracy: 0.5156 - 15s/epoch - 24ms/step\n"
     ]
    }
   ],
   "source": [
    "train_history3 = model_rnn.fit(X_train, y_train, batch_size=32,epochs=3, verbose=2, validation_split=0.2)"
   ]
  },
  {
   "cell_type": "code",
   "execution_count": 18,
   "metadata": {},
   "outputs": [
    {
     "data": {
      "image/png": "[encoded data removed]",
      "text/plain": [
       "<Figure size 432x288 with 1 Axes>"
      ]
     },
     "metadata": {
      "needs_background": "light"
     },
     "output_type": "display_data"
    }
   ],
   "source": [
    "plt.plot(train_history3.history['accuracy'])\n",
    "plt.title('Model Accuracy')\n",
    "plt.ylabel('accuracy')\n",
    "plt.xlabel('epoch')\n",
    "plt.show()"
   ]
  },
  {
   "cell_type": "code",
   "execution_count": 19,
   "metadata": {},
   "outputs": [
    {
     "data": {
      "image/png": "[encoded data removed]",
      "text/plain": [
       "<Figure size 432x288 with 1 Axes>"
      ]
     },
     "metadata": {
      "needs_background": "light"
     },
     "output_type": "display_data"
    }
   ],
   "source": [
    "plt.plot(train_history3.history['loss'])\n",
    "plt.title('Model Loss')\n",
    "plt.ylabel('loss')\n",
    "plt.xlabel('epoch')\n",
    "plt.show()"
   ]
  },
  {
   "cell_type": "code",
   "execution_count": 20,
   "metadata": {},
   "outputs": [
    {
     "name": "stdout",
     "output_type": "stream",
     "text": [
      "782/782 [==============================] - 7s 9ms/step - loss: 0.6929 - accuracy: 0.5198\n",
      "[0.6928631067276001, 0.5198400020599365]\n"
     ]
    }
   ],
   "source": [
    "print(model_rnn.evaluate(X_test, y_test, verbose=1))"
   ]
  },
  {
   "cell_type": "markdown",
   "metadata": {},
   "source": [
    "### Model 2"
   ]
  },
  {
   "cell_type": "code",
   "execution_count": 21,
   "metadata": {},
   "outputs": [],
   "source": [
    "epochs = 5\n",
    "learning_rate = 0.001\n",
    "decay_rate = learning_rate / epochs\n",
    "momentum = 0.8\n",
    "sgd = SGD(learning_rate=learning_rate, momentum=momentum, decay=decay_rate, nesterov=False)"
   ]
  },
  {
   "cell_type": "code",
   "execution_count": 22,
   "metadata": {},
   "outputs": [
    {
     "name": "stdout",
     "output_type": "stream",
     "text": [
      "Model: \"sequential_1\"\n",
      "_________________________________________________________________\n",
      " Layer (type)                Output Shape              Param #   \n",
      "=================================================================\n",
      " embedding_1 (Embedding)     (None, 250, 32)           320000    \n",
      "                                                                 \n",
      " dropout_2 (Dropout)         (None, 250, 32)           0         \n",
      "                                                                 \n",
      " lstm_1 (LSTM)               (None, 32)                8320      \n",
      "                                                                 \n",
      " dense_2 (Dense)             (None, 256)               8448      \n",
      "                                                                 \n",
      " dropout_3 (Dropout)         (None, 256)               0         \n",
      "                                                                 \n",
      " dense_3 (Dense)             (None, 1)                 257       \n",
      "                                                                 \n",
      "=================================================================\n",
      "Total params: 337,025\n",
      "Trainable params: 337,025\n",
      "Non-trainable params: 0\n",
      "_________________________________________________________________\n"
     ]
    }
   ],
   "source": [
    "embedding_vector_length = 32\n",
    "model = Sequential()\n",
    "model.add(Embedding(input_dim=num_words, output_dim=embedding_vector_length, input_length=max_review_length))\n",
    "model.add(Dropout(0.2))\n",
    "model.add(LSTM(32))\n",
    "model.add(Dense(units=256, activation='relu'))\n",
    "model.add(Dropout(0.2))\n",
    "model.add(Dense(units=1, activation='sigmoid'))\n",
    "model.summary()\n",
    "model.compile(loss='binary_crossentropy', optimizer=sgd, metrics=['accuracy'])"
   ]
  },
  {
   "cell_type": "code",
   "execution_count": 23,
   "metadata": {},
   "outputs": [
    {
     "name": "stdout",
     "output_type": "stream",
     "text": [
      "Epoch 1/5\n",
      "625/625 - 15s - loss: 0.6931 - accuracy: 0.4983 - val_loss: 0.6930 - val_accuracy: 0.5258 - 15s/epoch - 25ms/step\n",
      "Epoch 2/5\n",
      "625/625 - 15s - loss: 0.6930 - accuracy: 0.5038 - val_loss: 0.6929 - val_accuracy: 0.5142 - 15s/epoch - 23ms/step\n",
      "Epoch 3/5\n",
      "625/625 - 14s - loss: 0.6929 - accuracy: 0.5132 - val_loss: 0.6928 - val_accuracy: 0.5492 - 14s/epoch - 23ms/step\n",
      "Epoch 4/5\n",
      "625/625 - 14s - loss: 0.6929 - accuracy: 0.5175 - val_loss: 0.6927 - val_accuracy: 0.5234 - 14s/epoch - 23ms/step\n",
      "Epoch 5/5\n",
      "625/625 - 14s - loss: 0.6928 - accuracy: 0.5177 - val_loss: 0.6927 - val_accuracy: 0.5352 - 14s/epoch - 23ms/step\n"
     ]
    }
   ],
   "source": [
    "history11= model.fit(X_train, y_train, batch_size=32,epochs=5, verbose=2, validation_split=0.2)"
   ]
  },
  {
   "cell_type": "code",
   "execution_count": 24,
   "metadata": {},
   "outputs": [
    {
     "data": {
      "image/png": "[encoded data removed]",
      "text/plain": [
       "<Figure size 432x288 with 1 Axes>"
      ]
     },
     "metadata": {
      "needs_background": "light"
     },
     "output_type": "display_data"
    }
   ],
   "source": [
    "plt.plot(history11.history['accuracy'])\n",
    "plt.title('Model Accuracy')\n",
    "plt.ylabel('accuracy')\n",
    "plt.xlabel('epoch')\n",
    "plt.show()"
   ]
  },
  {
   "cell_type": "code",
   "execution_count": 25,
   "metadata": {},
   "outputs": [
    {
     "data": {
      "image/png": "[encoded data removed]",
      "text/plain": [
       "<Figure size 432x288 with 1 Axes>"
      ]
     },
     "metadata": {
      "needs_background": "light"
     },
     "output_type": "display_data"
    }
   ],
   "source": [
    "plt.plot(history11.history['loss'])\n",
    "plt.title('Model Loss')\n",
    "plt.ylabel('loss')\n",
    "plt.xlabel('epoch')\n",
    "plt.show()"
   ]
  },
  {
   "cell_type": "code",
   "execution_count": 32,
   "metadata": {},
   "outputs": [],
   "source": [
    "epochs = 20\n",
    "learning_rate = 0.0001\n",
    "decay_rate = learning_rate / epochs\n",
    "momentum = 0.8\n",
    "sgd = SGD(learning_rate=learning_rate, momentum=momentum, decay=decay_rate, nesterov=False)"
   ]
  },
  {
   "cell_type": "code",
   "execution_count": 33,
   "metadata": {},
   "outputs": [
    {
     "name": "stdout",
     "output_type": "stream",
     "text": [
      "Model: \"sequential_3\"\n",
      "_________________________________________________________________\n",
      " Layer (type)                Output Shape              Param #   \n",
      "=================================================================\n",
      " embedding_3 (Embedding)     (None, 250, 32)           320000    \n",
      "                                                                 \n",
      " dropout_6 (Dropout)         (None, 250, 32)           0         \n",
      "                                                                 \n",
      " lstm_3 (LSTM)               (None, 32)                8320      \n",
      "                                                                 \n",
      " dense_6 (Dense)             (None, 256)               8448      \n",
      "                                                                 \n",
      " dropout_7 (Dropout)         (None, 256)               0         \n",
      "                                                                 \n",
      " dense_7 (Dense)             (None, 1)                 257       \n",
      "                                                                 \n",
      "=================================================================\n",
      "Total params: 337,025\n",
      "Trainable params: 337,025\n",
      "Non-trainable params: 0\n",
      "_________________________________________________________________\n"
     ]
    }
   ],
   "source": [
    "embedding_vector_length = 32\n",
    "model_rnn1 = Sequential()\n",
    "model_rnn1.add(Embedding(input_dim=num_words, output_dim=embedding_vector_length, input_length=max_review_length))\n",
    "model_rnn1.add(Dropout(0.2))\n",
    "model_rnn1.add(LSTM(32))\n",
    "model_rnn1.add(Dense(units=256, activation='relu'))\n",
    "model_rnn1.add(Dropout(0.2))\n",
    "model_rnn1.add(Dense(units=1, activation='sigmoid'))\n",
    "model_rnn1.summary()\n",
    "model_rnn1.compile(loss='binary_crossentropy', optimizer=sgd, metrics=['accuracy'])"
   ]
  },
  {
   "cell_type": "code",
   "execution_count": null,
   "metadata": {},
   "outputs": [
    {
     "name": "stdout",
     "output_type": "stream",
     "text": [
      "Epoch 1/20\n",
      "625/625 - 16s - loss: 0.6932 - accuracy: 0.4827 - val_loss: 0.6932 - val_accuracy: 0.4832 - 16s/epoch - 25ms/step\n",
      "Epoch 2/20\n",
      "625/625 - 14s - loss: 0.6932 - accuracy: 0.4879 - val_loss: 0.6932 - val_accuracy: 0.4872 - 14s/epoch - 23ms/step\n",
      "Epoch 3/20\n",
      "625/625 - 14s - loss: 0.6932 - accuracy: 0.4866 - val_loss: 0.6932 - val_accuracy: 0.4934 - 14s/epoch - 23ms/step\n",
      "Epoch 4/20\n",
      "625/625 - 14s - loss: 0.6932 - accuracy: 0.4981 - val_loss: 0.6932 - val_accuracy: 0.4928 - 14s/epoch - 23ms/step\n",
      "Epoch 5/20\n",
      "625/625 - 14s - loss: 0.6931 - accuracy: 0.4983 - val_loss: 0.6932 - val_accuracy: 0.4976 - 14s/epoch - 23ms/step\n",
      "Epoch 6/20\n",
      "625/625 - 14s - loss: 0.6931 - accuracy: 0.4992 - val_loss: 0.6931 - val_accuracy: 0.4980 - 14s/epoch - 23ms/step\n",
      "Epoch 7/20\n",
      "625/625 - 14s - loss: 0.6931 - accuracy: 0.4999 - val_loss: 0.6931 - val_accuracy: 0.5002 - 14s/epoch - 23ms/step\n",
      "Epoch 8/20\n",
      "625/625 - 15s - loss: 0.6931 - accuracy: 0.5067 - val_loss: 0.6931 - val_accuracy: 0.5020 - 15s/epoch - 23ms/step\n",
      "Epoch 9/20\n",
      "625/625 - 15s - loss: 0.6931 - accuracy: 0.5044 - val_loss: 0.6931 - val_accuracy: 0.5038 - 15s/epoch - 23ms/step\n",
      "Epoch 10/20\n",
      "625/625 - 14s - loss: 0.6931 - accuracy: 0.5044 - val_loss: 0.6931 - val_accuracy: 0.5024 - 14s/epoch - 23ms/step\n",
      "Epoch 11/20\n",
      "625/625 - 14s - loss: 0.6931 - accuracy: 0.5106 - val_loss: 0.6931 - val_accuracy: 0.5040 - 14s/epoch - 23ms/step\n",
      "Epoch 12/20\n",
      "625/625 - 14s - loss: 0.6931 - accuracy: 0.5086 - val_loss: 0.6931 - val_accuracy: 0.5058 - 14s/epoch - 23ms/step\n",
      "Epoch 13/20\n"
     ]
    }
   ],
   "source": [
    "history_rnn1= model_rnn1.fit(X_train, y_train, batch_size=32,epochs=20, verbose=2, validation_split=0.2)"
   ]
  },
  {
   "cell_type": "code",
   "execution_count": 29,
   "metadata": {},
   "outputs": [
    {
     "data": {
      "image/png": "[encoded data removed]",
      "text/plain": [
       "<Figure size 432x288 with 1 Axes>"
      ]
     },
     "metadata": {
      "needs_background": "light"
     },
     "output_type": "display_data"
    }
   ],
   "source": [
    "plt.plot(history_rnn1.history['accuracy'])\n",
    "plt.title('Model Accuracy')\n",
    "plt.ylabel('accuracy')\n",
    "plt.xlabel('epoch')\n",
    "plt.show()"
   ]
  },
  {
   "cell_type": "code",
   "execution_count": 30,
   "metadata": {},
   "outputs": [
    {
     "data": {
      "image/png": "[encoded data removed]",
      "text/plain": [
       "<Figure size 432x288 with 1 Axes>"
      ]
     },
     "metadata": {
      "needs_background": "light"
     },
     "output_type": "display_data"
    }
   ],
   "source": [
    "plt.plot(history_rnn1.history['loss'])\n",
    "plt.title('Model Loss')\n",
    "plt.ylabel('loss')\n",
    "plt.xlabel('epoch')\n",
    "plt.show()"
   ]
  },
  {
   "cell_type": "code",
   "execution_count": 31,
   "metadata": {},
   "outputs": [
    {
     "name": "stdout",
     "output_type": "stream",
     "text": [
      "782/782 [==============================] - 7s 9ms/step - loss: 0.6931 - accuracy: 0.5026\n",
      "[0.6930680274963379, 0.502560019493103]\n"
     ]
    }
   ],
   "source": [
    "print(model_rnn1.evaluate(X_test, y_test, verbose=1))"
   ]
  }
 ],
 "metadata": {
  "kernelspec": {
   "display_name": "Python 3 (ipykernel)",
   "language": "python",
   "name": "python3"
  },
  "language_info": {
   "codemirror_mode": {
    "name": "ipython",
    "version": 3
   },
   "file_extension": ".py",
   "mimetype": "text/x-python",
   "name": "python",
   "nbconvert_exporter": "python",
   "pygments_lexer": "ipython3",
   "version": "3.9.12"
  }
 },
 "nbformat": 4,
 "nbformat_minor": 1
}
